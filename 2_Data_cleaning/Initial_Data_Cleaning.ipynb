{
  "nbformat": 4,
  "nbformat_minor": 0,
  "metadata": {
    "colab": {
      "name": "Initial Data Cleaning.ipynb",
      "provenance": [],
      "collapsed_sections": [],
      "toc_visible": true,
      "machine_shape": "hm"
    },
    "kernelspec": {
      "name": "python3",
      "display_name": "Python 3"
    }
  },
  "cells": [
    {
      "cell_type": "markdown",
      "metadata": {
        "id": "ihfXrF0zE-5H",
        "colab_type": "text"
      },
      "source": [
        "Import Libraries\n",
        "--"
      ]
    },
    {
      "cell_type": "code",
      "metadata": {
        "id": "ivCIhm4zyRyI",
        "colab_type": "code",
        "outputId": "69d1f301-789c-4c09-8059-bb9a72a53c1a",
        "colab": {
          "base_uri": "https://localhost:8080/",
          "height": 35
        }
      },
      "source": [
        "import json, csv\n",
        "import numpy as np\n",
        "import pandas as pd\n",
        "import re\n",
        "import warnings\n",
        "\n",
        "warnings.filterwarnings('ignore')\n",
        "\n",
        "print(\"Libraries Imported\")"
      ],
      "execution_count": 1,
      "outputs": [
        {
          "output_type": "stream",
          "text": [
            "Libraries Imported\n"
          ],
          "name": "stdout"
        }
      ]
    },
    {
      "cell_type": "code",
      "metadata": {
        "id": "mvxifhcnAx6h",
        "colab_type": "code",
        "colab": {}
      },
      "source": [
        "def getText(doc):\n",
        "  doc =  str(doc)\n",
        "  doc = doc.lower().strip()\n",
        "  doc = re.sub('\\n', ' ', doc)\n",
        "  doc = re.sub(r'\\s+', ' ', doc)\n",
        "  m = re.search(r'<meta property=\\\"og:title\\\" content=\\\"(.*?)\\\"/>',doc)\n",
        "  m1 = re.search(r'<meta property=\\\"og:description\\\" content=\\\"(.*?)\\\"/>',doc)\n",
        "\n",
        "  if m != None and m1!= None:\n",
        "    text = str(m.group(1)) + ' ' + str(m1.group(1))\n",
        "  else:\n",
        "    text  = \"No match\"\n",
        "\n",
        "  return text"
      ],
      "execution_count": 0,
      "outputs": []
    },
    {
      "cell_type": "markdown",
      "metadata": {
        "id": "8EXob7wzFNcz",
        "colab_type": "text"
      },
      "source": [
        "Preparing Datasets\n",
        "--"
      ]
    },
    {
      "cell_type": "code",
      "metadata": {
        "id": "YgcH2x0NY6Rz",
        "colab_type": "code",
        "colab": {}
      },
      "source": [
        "data = pd.read_json('eval_cleaned.json')\n",
        "\n",
        "for i, row in data.iterrows():\n",
        "  if re.match(r\"^\\\"/><meta property=\\\"\", row['original_text']) == None:\n",
        "    text = getText(row['original_text'])\n",
        "    if text != \"No match\":\n",
        "      data.at[i,'text'] = text\n",
        "  items = row['equations'].split(\"\\r\\n\")\n",
        "  data.at[i,'nequ'] = len(items)"
      ],
      "execution_count": 0,
      "outputs": []
    },
    {
      "cell_type": "code",
      "metadata": {
        "id": "00sJsbIPc18g",
        "colab_type": "code",
        "colab": {}
      },
      "source": [
        "data = data.loc[data['nequ'] == 2]\n",
        "\n",
        "data[[\"unknowns\",\"equations\"]] = data[\"equations\"].str.split(\"\\r\\n\", 1, expand = True)\n",
        "\n",
        "data[\"unknowns\"] = data[\"unknowns\"].str[6:]\n",
        "\n",
        "data[\"equations\"] = data[\"equations\"].str[5:]\n",
        "\n",
        "data = data[[\"text\",\"ans\",\"equations\",\"unknowns\"]]"
      ],
      "execution_count": 0,
      "outputs": []
    },
    {
      "cell_type": "code",
      "metadata": {
        "id": "iQCi_lZnJKwi",
        "colab_type": "code",
        "outputId": "e9d64326-09e4-4a8b-f5ea-95e3209ad1de",
        "colab": {
          "base_uri": "https://localhost:8080/",
          "height": 173
        }
      },
      "source": [
        "data = data.dropna(subset=[\"equations\"])\n",
        "\n",
        "data.info()"
      ],
      "execution_count": 5,
      "outputs": [
        {
          "output_type": "stream",
          "text": [
            "<class 'pandas.core.frame.DataFrame'>\n",
            "Int64Index: 6625 entries, 19 to 14722\n",
            "Data columns (total 4 columns):\n",
            "text         6625 non-null object\n",
            "ans          6625 non-null object\n",
            "equations    6625 non-null object\n",
            "unknowns     6625 non-null object\n",
            "dtypes: object(4)\n",
            "memory usage: 258.8+ KB\n"
          ],
          "name": "stdout"
        }
      ]
    },
    {
      "cell_type": "markdown",
      "metadata": {
        "id": "l_j4sf8UFRAO",
        "colab_type": "text"
      },
      "source": [
        "Data Cleaning\n",
        "--"
      ]
    },
    {
      "cell_type": "code",
      "metadata": {
        "id": "PdhRZ_R1FTCI",
        "colab_type": "code",
        "outputId": "136792b6-a0ff-4cc7-b1d7-5ae7cf3f4d62",
        "colab": {
          "base_uri": "https://localhost:8080/",
          "height": 69
        }
      },
      "source": [
        "import nltk\n",
        "nltk.download('stopwords')\n",
        "\n",
        "from nltk.corpus import stopwords\n",
        "\n",
        "import spacy\n",
        "\n",
        "# import string\n",
        "\n",
        "import re\n",
        "\n",
        "nlp = spacy.load(\"en\")\n",
        "\n",
        "nltk_stopwords = set(stopwords.words('english'))\n",
        "\n",
        "spacy_stopwords = nlp.Defaults.stop_words\n",
        "\n",
        "stopset = nltk_stopwords.union(spacy_stopwords)\n",
        "\n",
        "stopset.difference_update([\"a\",\"more\",\"less\",\"than\",\"one\",\"two\",\"three\",\"four\",\"five\",\"six\",\"seven\",\"eight\",\"nine\",\"ten\",\"eleven\",\"twelve\",\"fifteen\",\"twenty\",\"forty\",\"sixty\",\"fifty\",\"hundred\",\"once\",\"first\",\"second\",\"third\"])\n",
        "\n",
        "punctuation = \"!\\\"#$&',;?@\\_`{|}~\"\n",
        "\n",
        "def getText(doc):\n",
        "  doc =  str(doc)\n",
        "  doc = doc.lower().strip()\n",
        "  doc = re.sub('\\n', ' ', doc)\n",
        "  doc = re.sub(r'\\s+', ' ', doc)\n",
        "  m = re.search(r'<meta property=\\\"og:title\\\" content=\\\"(.*?)\\\"/>',doc)\n",
        "  m1 = re.search(r'<meta property=\\\"og:description\\\" content=\\\"(.*?)\\\"/>',doc)\n",
        "\n",
        "  if m != None and m1!= None:\n",
        "    text = str(m.group(1)) + ' ' + str(m1.group(1))\n",
        "  else:\n",
        "    text  = \"No match\"\n",
        "\n",
        "  return text\n",
        "\n",
        "\n",
        "def cleanData(doc):\n",
        "  doc = str(doc)\n",
        "  doc = doc.lower().strip()\n",
        "  doc = re.sub('\\n', ' ', doc)\n",
        "  doc = re.sub(r'\\s+', ' ', doc)\n",
        "  pattern = '\"/><meta '\n",
        "  lookup = re.search(pattern, doc)\n",
        "  if lookup != None:\n",
        "    index = doc.find(lookup.group(0))\n",
        "    doc = doc[:index]\n",
        "  doc = doc.replace('yahoo answers','')\n",
        "  regex1 = r\"[A-Za-z\\s*]+[\\.:%-][A-Za-z\\s*]*\"\n",
        "  regex2 = r\"[0-9]+\\.[0-9]+\"\n",
        "  regex3 = r\"[0-9\\s*]{1,}[\\=\\*+-][0-9\\s*]{1,}\"\n",
        "  match1 = re.search(regex1, doc)\n",
        "  match2 = re.search(regex2, doc)\n",
        "  match3 = re.search(regex3, doc)\n",
        "  # tokens = nltk.WordPunctTokenizer().tokenize(doc)      \n",
        "  tokens = doc.split()\n",
        "  # clean = [token.lower().strip() for token in tokens if token not in stopset]\n",
        "  clean = [token for token in tokens if token not in stopset]\n",
        "  clean = [token.replace('.','') for token in clean if not re.search(r\"[0-9]+\\.[0-9]+\", token)]\n",
        "  clean = \" \".join(clean)\n",
        "  # clean = [''.join(c for c in s if c not in punctuation) for s in clean]\n",
        "  final = ''.join(c for c in clean if c not in punctuation)\n",
        "  # final_tokens = final.split()\n",
        "  # clean2 = [token.replace('.','') for token in final_tokens if not re.search(r\"[0-9]+\\.[0-9]+\", token)]\n",
        "  # final = \" \".join(clean2)\n",
        "  # final = \" \".join(clean)\n",
        "  try:\n",
        "      final = remove_whitespace(final.encode('latin1').decode('utf-8','replace').encode('ascii','ignore'))\n",
        "  except:\n",
        "      final = remove_whitespace(final)\n",
        "  final=final.strip()\n",
        "  return final\n",
        "\n",
        "def remove_whitespace(x):\n",
        "  \"\"\"\n",
        "  Helper function to remove any blank space from a string\n",
        "  x: a string\n",
        "  \"\"\"\n",
        "  try:\n",
        "      # Remove spaces inside of the string\n",
        "      x = \" \".join(x.split())\n",
        "  except:\n",
        "      pass\n",
        "  return x\n",
        "  \n",
        "print(\"Functions Defined!\")\n"
      ],
      "execution_count": 6,
      "outputs": [
        {
          "output_type": "stream",
          "text": [
            "[nltk_data] Downloading package stopwords to /root/nltk_data...\n",
            "[nltk_data]   Unzipping corpora/stopwords.zip.\n",
            "Functions Defined!\n"
          ],
          "name": "stdout"
        }
      ]
    },
    {
      "cell_type": "code",
      "metadata": {
        "id": "ZlwEQ2xHH1s9",
        "colab_type": "code",
        "outputId": "a2677378-e528-4e80-c590-8f30df44dc10",
        "colab": {
          "base_uri": "https://localhost:8080/",
          "height": 191
        }
      },
      "source": [
        "data['cleaned_text'] = data.apply(lambda x: cleanData(str(x['text'])), axis=1)\n",
        "\n",
        "data['cleaned_text'] = data['cleaned_text'].str.decode(\"utf-8\")\n",
        "\n",
        "data = data.dropna(subset=[\"cleaned_text\"])\n",
        "\n",
        "data.info()\n",
        "\n",
        "# data.to_csv(\"trainData_univariable.csv\", index = False)\n",
        "# data.to_csv(\"trainData_univariable.txt\", index = False)"
      ],
      "execution_count": 7,
      "outputs": [
        {
          "output_type": "stream",
          "text": [
            "<class 'pandas.core.frame.DataFrame'>\n",
            "Int64Index: 6487 entries, 19 to 14722\n",
            "Data columns (total 5 columns):\n",
            "text            6487 non-null object\n",
            "ans             6487 non-null object\n",
            "equations       6487 non-null object\n",
            "unknowns        6487 non-null object\n",
            "cleaned_text    6487 non-null object\n",
            "dtypes: object(5)\n",
            "memory usage: 304.1+ KB\n"
          ],
          "name": "stdout"
        }
      ]
    },
    {
      "cell_type": "markdown",
      "metadata": {
        "id": "OpkqG1aVO2Z5",
        "colab_type": "text"
      },
      "source": [
        "Data Modelling (Archieve)\n",
        "--"
      ]
    },
    {
      "cell_type": "code",
      "metadata": {
        "id": "WvbmU8_8XLBX",
        "colab_type": "code",
        "outputId": "c7fd0123-7402-4bdd-e6ff-7d2fcdb47475",
        "colab": {
          "base_uri": "https://localhost:8080/",
          "height": 399
        }
      },
      "source": [
        "import pandas as pd\n",
        "\n",
        "data = pd.read_csv('new_cleaned_data.csv')\n",
        "\n",
        "from sklearn.model_selection import train_test_split\n",
        "\n",
        "trainData, testData = train_test_split(data, test_size = 0.2)\n",
        "\n",
        "trainData.rename(columns={'cleaned text': 'cleaned_text'}, inplace=True)\n",
        "\n",
        "testData.rename(columns={'cleaned text': 'cleaned_text'}, inplace=True)\n",
        "\n",
        "trainData = trainData.reset_index(drop=True)\n",
        "\n",
        "testData = testData.reset_index(drop=True)\n",
        "\n",
        "print(trainData.info())\n",
        "\n",
        "print(testData.info())"
      ],
      "execution_count": 0,
      "outputs": [
        {
          "output_type": "stream",
          "text": [
            "<class 'pandas.core.frame.DataFrame'>\n",
            "Int64Index: 1896 entries, 1302 to 771\n",
            "Data columns (total 5 columns):\n",
            "ans             1896 non-null object\n",
            "cleaned_text    1896 non-null object\n",
            "equations       1896 non-null object\n",
            "text            1896 non-null object\n",
            "unknowns        1895 non-null object\n",
            "dtypes: object(5)\n",
            "memory usage: 88.9+ KB\n",
            "None\n",
            "<class 'pandas.core.frame.DataFrame'>\n",
            "Int64Index: 474 entries, 1928 to 1444\n",
            "Data columns (total 5 columns):\n",
            "ans             474 non-null object\n",
            "cleaned_text    474 non-null object\n",
            "equations       474 non-null object\n",
            "text            474 non-null object\n",
            "unknowns        471 non-null object\n",
            "dtypes: object(5)\n",
            "memory usage: 22.2+ KB\n",
            "None\n"
          ],
          "name": "stdout"
        }
      ]
    },
    {
      "cell_type": "code",
      "metadata": {
        "id": "52SBxzo3HKMV",
        "colab_type": "code",
        "colab": {}
      },
      "source": [
        "from sklearn.feature_extraction.text import TfidfVectorizer\n",
        "\n",
        "# print(data.info())\n",
        "\n",
        "tfidf = TfidfVectorizer(sublinear_tf=True, min_df=1, norm='l2', encoding='latin-1', ngram_range=(1, 2), stop_words= None)\n",
        "\n",
        "tfidf.fit(trainData['cleaned_text'])\n",
        "\n",
        "features = tfidf.transform(trainData['cleaned_text']).toarray()\n",
        "\n",
        "# test = \"Three times the first of three consecutive odd integers is 3 more than twice the third . What is the third integer ?\"\n",
        "\n",
        "# testClean = cleanData(test)\n",
        "\n",
        "# print(testClean)\n",
        "\n",
        "# test_feature = tfidf.transform([testClean]).toarray()\n",
        "\n",
        "test_features = tfidf.transform(testData['cleaned_text']).toarray()\n",
        "\n",
        "# print(test_features)\n",
        "\n",
        "# print(features)"
      ],
      "execution_count": 0,
      "outputs": []
    },
    {
      "cell_type": "code",
      "metadata": {
        "id": "LzubaLyqhBJl",
        "colab_type": "code",
        "outputId": "625bbd87-2908-4c73-e70d-5d999793212c",
        "colab": {
          "base_uri": "https://localhost:8080/",
          "height": 433
        }
      },
      "source": [
        "testData['matchedQuestion'] = ''\n",
        "testData['matchedEq'] = ''\n",
        "\n",
        "print(trainData.info())\n",
        "\n",
        "print(testData.info())"
      ],
      "execution_count": 0,
      "outputs": [
        {
          "output_type": "stream",
          "text": [
            "<class 'pandas.core.frame.DataFrame'>\n",
            "RangeIndex: 1896 entries, 0 to 1895\n",
            "Data columns (total 5 columns):\n",
            "ans             1896 non-null object\n",
            "cleaned_text    1896 non-null object\n",
            "equations       1896 non-null object\n",
            "text            1896 non-null object\n",
            "unknowns        1895 non-null object\n",
            "dtypes: object(5)\n",
            "memory usage: 74.2+ KB\n",
            "None\n",
            "<class 'pandas.core.frame.DataFrame'>\n",
            "RangeIndex: 474 entries, 0 to 473\n",
            "Data columns (total 7 columns):\n",
            "ans                474 non-null object\n",
            "cleaned_text       474 non-null object\n",
            "equations          474 non-null object\n",
            "text               474 non-null object\n",
            "unknowns           471 non-null object\n",
            "matchedQuestion    474 non-null object\n",
            "matchedEq          474 non-null object\n",
            "dtypes: object(7)\n",
            "memory usage: 26.0+ KB\n",
            "None\n"
          ],
          "name": "stdout"
        }
      ]
    },
    {
      "cell_type": "code",
      "metadata": {
        "id": "T8xvBdI6gmKo",
        "colab_type": "code",
        "colab": {}
      },
      "source": [
        "from scipy import spatial\n",
        "\n",
        "score = 0\n",
        "index = 0\n",
        "\n",
        "\n",
        "for i, row1 in testData.iterrows():\n",
        "  score = 0\n",
        "  for j, row2 in trainData.iterrows():\n",
        "    similarity = 1 - spatial.distance.cosine(test_features[i], features[j])\n",
        "    if similarity > score:\n",
        "      score = similarity\n",
        "      testData.at[i,'matchedQuestion'] = row2['cleaned_text']\n",
        "      testData.at[i, 'matchedEq'] = row2['equations']"
      ],
      "execution_count": 0,
      "outputs": []
    },
    {
      "cell_type": "code",
      "metadata": {
        "id": "BS9iUcSVNYpD",
        "colab_type": "code",
        "colab": {}
      },
      "source": [
        "testData.info()\n",
        "\n",
        "testData.to_csv(\"cosineSimilarity.csv\", index = False)"
      ],
      "execution_count": 0,
      "outputs": []
    },
    {
      "cell_type": "code",
      "metadata": {
        "id": "VIrqPv3czZEw",
        "colab_type": "code",
        "colab": {}
      },
      "source": [
        "from scipy import spatial\n",
        "\n",
        "score = 0\n",
        "index = 0\n",
        "\n",
        "def similarity(sen1, sen2):\n",
        "  score = np.dot(sen1, sen2)/(np.linalg.norm(sen1)*np.linalg.norm(sen2))\n",
        "  return score\n",
        "\n",
        "for i, row1 in testData.iterrows():\n",
        "  score = 0\n",
        "  for j, row2 in trainData.iterrows():\n",
        "    similarity = 1 - similarity(test_features[i], features[j])\n",
        "    if similarity > score:\n",
        "      score = similarity\n",
        "      testData.at[i,'matchedQuestion'] = row2['cleaned_text']\n",
        "      testData.at[i, 'matchedEq'] = row2['equations']"
      ],
      "execution_count": 0,
      "outputs": []
    },
    {
      "cell_type": "code",
      "metadata": {
        "id": "18jlqxG3DJa3",
        "colab_type": "code",
        "outputId": "106fb3d7-d495-4b08-eeea-90864e0bd389",
        "colab": {
          "base_uri": "https://localhost:8080/",
          "height": 225
        }
      },
      "source": [
        "testData.info()\n",
        "\n",
        "testData.to_csv(\"generalSimilarity.csv\", index = False)"
      ],
      "execution_count": 0,
      "outputs": [
        {
          "output_type": "stream",
          "text": [
            "<class 'pandas.core.frame.DataFrame'>\n",
            "RangeIndex: 474 entries, 0 to 473\n",
            "Data columns (total 7 columns):\n",
            "ans                474 non-null object\n",
            "cleaned_text       474 non-null object\n",
            "equations          474 non-null object\n",
            "text               474 non-null object\n",
            "unknowns           471 non-null object\n",
            "matchedQuestion    474 non-null object\n",
            "matchedEq          474 non-null object\n",
            "dtypes: object(7)\n",
            "memory usage: 26.0+ KB\n"
          ],
          "name": "stdout"
        }
      ]
    },
    {
      "cell_type": "code",
      "metadata": {
        "id": "smFQYt8gHHxR",
        "colab_type": "code",
        "colab": {}
      },
      "source": [
        "from math import *\n",
        "\n",
        "score = 0\n",
        "index = 0\n",
        "\n",
        "def jaccard_similarity(sen1, sen2):\n",
        "  intersection = len(set.intersection(*[set(sen1), set(sen2)]))\n",
        "\n",
        "  union = len(set.union(*[set(sen1), set(set2)]))\n",
        "\n",
        "  score = intersection/float(union)\n",
        "\n",
        "  return score\n",
        "\n",
        "for i, row1 in testData.iterrows():\n",
        "  score = 0\n",
        "  for j, row2 in trainData.iterrows():\n",
        "    similarity = jaccard_similarity(test_features[i], features[j])\n",
        "    if similarity > score:\n",
        "      score = similarity\n",
        "      testData.at[i,'matchedQuestion'] = row2['cleaned_text']\n",
        "      testData.at[i, 'matchedEq'] = row2['equations']"
      ],
      "execution_count": 0,
      "outputs": []
    },
    {
      "cell_type": "code",
      "metadata": {
        "id": "hwLHfc5gNbYF",
        "colab_type": "code",
        "colab": {}
      },
      "source": [
        "testData.info()\n",
        "\n",
        "testData.to_csv(\"jaccardSimilarity.csv\", index = False)"
      ],
      "execution_count": 0,
      "outputs": []
    }
  ]
}